{
 "cells": [
  {
   "cell_type": "code",
   "execution_count": 1,
   "id": "e601f98b",
   "metadata": {},
   "outputs": [
    {
     "name": "stdout",
     "output_type": "stream",
     "text": [
      "Defaulting to user installation because normal site-packages is not writeable\n",
      "Requirement already satisfied: google-cloud-bigquery in c:\\users\\anand\\appdata\\roaming\\python\\python311\\site-packages (3.14.1)\n",
      "Requirement already satisfied: google-api-core!=2.0.*,!=2.1.*,!=2.2.*,!=2.3.0,<3.0.0dev,>=1.31.5 in c:\\users\\anand\\appdata\\roaming\\python\\python311\\site-packages (from google-cloud-bigquery) (2.15.0)\n",
      "Requirement already satisfied: google-cloud-core<3.0.0dev,>=1.6.0 in c:\\users\\anand\\appdata\\roaming\\python\\python311\\site-packages (from google-cloud-bigquery) (2.4.1)\n",
      "Requirement already satisfied: google-resumable-media<3.0dev,>=0.6.0 in c:\\users\\anand\\appdata\\roaming\\python\\python311\\site-packages (from google-cloud-bigquery) (2.7.0)\n",
      "Requirement already satisfied: packaging>=20.0.0 in c:\\programdata\\anaconda3\\lib\\site-packages (from google-cloud-bigquery) (23.0)\n",
      "Requirement already satisfied: python-dateutil<3.0dev,>=2.7.2 in c:\\programdata\\anaconda3\\lib\\site-packages (from google-cloud-bigquery) (2.8.2)\n",
      "Requirement already satisfied: requests<3.0.0dev,>=2.21.0 in c:\\programdata\\anaconda3\\lib\\site-packages (from google-cloud-bigquery) (2.29.0)\n",
      "Requirement already satisfied: googleapis-common-protos<2.0.dev0,>=1.56.2 in c:\\users\\anand\\appdata\\roaming\\python\\python311\\site-packages (from google-api-core!=2.0.*,!=2.1.*,!=2.2.*,!=2.3.0,<3.0.0dev,>=1.31.5->google-cloud-bigquery) (1.62.0)\n",
      "Requirement already satisfied: protobuf!=3.20.0,!=3.20.1,!=4.21.0,!=4.21.1,!=4.21.2,!=4.21.3,!=4.21.4,!=4.21.5,<5.0.0.dev0,>=3.19.5 in c:\\users\\anand\\appdata\\roaming\\python\\python311\\site-packages (from google-api-core!=2.0.*,!=2.1.*,!=2.2.*,!=2.3.0,<3.0.0dev,>=1.31.5->google-cloud-bigquery) (4.25.1)\n",
      "Requirement already satisfied: google-auth<3.0.dev0,>=2.14.1 in c:\\users\\anand\\appdata\\roaming\\python\\python311\\site-packages (from google-api-core!=2.0.*,!=2.1.*,!=2.2.*,!=2.3.0,<3.0.0dev,>=1.31.5->google-cloud-bigquery) (2.26.1)\n",
      "Requirement already satisfied: google-crc32c<2.0dev,>=1.0 in c:\\users\\anand\\appdata\\roaming\\python\\python311\\site-packages (from google-resumable-media<3.0dev,>=0.6.0->google-cloud-bigquery) (1.5.0)\n",
      "Requirement already satisfied: six>=1.5 in c:\\programdata\\anaconda3\\lib\\site-packages (from python-dateutil<3.0dev,>=2.7.2->google-cloud-bigquery) (1.16.0)\n",
      "Requirement already satisfied: charset-normalizer<4,>=2 in c:\\programdata\\anaconda3\\lib\\site-packages (from requests<3.0.0dev,>=2.21.0->google-cloud-bigquery) (2.0.4)\n",
      "Requirement already satisfied: idna<4,>=2.5 in c:\\programdata\\anaconda3\\lib\\site-packages (from requests<3.0.0dev,>=2.21.0->google-cloud-bigquery) (3.4)\n",
      "Requirement already satisfied: urllib3<1.27,>=1.21.1 in c:\\programdata\\anaconda3\\lib\\site-packages (from requests<3.0.0dev,>=2.21.0->google-cloud-bigquery) (1.26.16)\n",
      "Requirement already satisfied: certifi>=2017.4.17 in c:\\programdata\\anaconda3\\lib\\site-packages (from requests<3.0.0dev,>=2.21.0->google-cloud-bigquery) (2023.7.22)\n",
      "Requirement already satisfied: cachetools<6.0,>=2.0.0 in c:\\users\\anand\\appdata\\roaming\\python\\python311\\site-packages (from google-auth<3.0.dev0,>=2.14.1->google-api-core!=2.0.*,!=2.1.*,!=2.2.*,!=2.3.0,<3.0.0dev,>=1.31.5->google-cloud-bigquery) (5.3.2)\n",
      "Requirement already satisfied: pyasn1-modules>=0.2.1 in c:\\programdata\\anaconda3\\lib\\site-packages (from google-auth<3.0.dev0,>=2.14.1->google-api-core!=2.0.*,!=2.1.*,!=2.2.*,!=2.3.0,<3.0.0dev,>=1.31.5->google-cloud-bigquery) (0.2.8)\n",
      "Requirement already satisfied: rsa<5,>=3.1.4 in c:\\users\\anand\\appdata\\roaming\\python\\python311\\site-packages (from google-auth<3.0.dev0,>=2.14.1->google-api-core!=2.0.*,!=2.1.*,!=2.2.*,!=2.3.0,<3.0.0dev,>=1.31.5->google-cloud-bigquery) (4.9)\n",
      "Requirement already satisfied: pyasn1<0.5.0,>=0.4.6 in c:\\programdata\\anaconda3\\lib\\site-packages (from pyasn1-modules>=0.2.1->google-auth<3.0.dev0,>=2.14.1->google-api-core!=2.0.*,!=2.1.*,!=2.2.*,!=2.3.0,<3.0.0dev,>=1.31.5->google-cloud-bigquery) (0.4.8)\n"
     ]
    }
   ],
   "source": [
    "!pip install google-cloud-bigquery"
   ]
  },
  {
   "cell_type": "code",
   "execution_count": 2,
   "id": "4b2d47a1",
   "metadata": {},
   "outputs": [],
   "source": [
    "import os\n",
    "from google.cloud import bigquery"
   ]
  },
  {
   "cell_type": "code",
   "execution_count": 4,
   "id": "0c29fa19",
   "metadata": {},
   "outputs": [
    {
     "name": "stdout",
     "output_type": "stream",
     "text": [
      "['.ipynb_checkpoints', 'Annotations_all.csv', 'Cards_all.csv', 'Combined_all.csv', 'Demographics_all.csv', 'Device and OS_all.csv', 'End screens_all.csv', 'Intern.ipynb', 'Playback locations_all.csv', 'Playlist combined_all.csv', 'Playlist device and OS_all.csv', 'Playlist playback locations_all.csv', 'Playlist province_all.csv', 'Playlist traffic sources_all.csv', 'Playlist user activity_all.csv', 'Province_all.csv', 'service-account-key.json', 'Sharing service_all.csv', 'Subtitles_all.csv', 'Tables-Mapping-and-Instructions.csv', 'Traffic sources_all.csv', 'User Activity_all.csv']\n"
     ]
    }
   ],
   "source": [
    "import os\n",
    "\n",
    "# Get the current working directory\n",
    "current_directory = os.getcwd()\n",
    "\n",
    "# List the files in the current directory to verify the uploaded file is present\n",
    "print(os.listdir(current_directory))\n",
    "\n",
    "# Set the path for the uploaded file\n",
    "file_name = \"service-account-key.json\"  # Replace with your file name\n",
    "file_path = os.path.join(current_directory, file_name)"
   ]
  },
  {
   "cell_type": "code",
   "execution_count": 5,
   "id": "8c271e95",
   "metadata": {},
   "outputs": [
    {
     "data": {
      "text/plain": [
       "'C:\\\\Users\\\\anand\\\\Intern\\\\service-account-key.json'"
      ]
     },
     "execution_count": 5,
     "metadata": {},
     "output_type": "execute_result"
    }
   ],
   "source": [
    "file_path"
   ]
  },
  {
   "cell_type": "code",
   "execution_count": 6,
   "id": "6cb2e53b",
   "metadata": {},
   "outputs": [],
   "source": [
    "# Set the environment variable for Google Cloud credentials\n",
    "os.environ[\"GOOGLE_APPLICATION_CREDENTIALS\"] = file_path"
   ]
  },
  {
   "cell_type": "code",
   "execution_count": 7,
   "id": "6b21d13c",
   "metadata": {},
   "outputs": [],
   "source": [
    "# Now, you can proceed with the BigQuery operations\n",
    "client = bigquery.Client()"
   ]
  },
  {
   "cell_type": "code",
   "execution_count": 9,
   "id": "688b53eb",
   "metadata": {},
   "outputs": [
    {
     "name": "stdout",
     "output_type": "stream",
     "text": [
      "DONE\n"
     ]
    },
    {
     "ename": "BadRequest",
     "evalue": "400 Error while reading data, error message: CSV processing encountered too many errors, giving up. Rows: 2393; errors: 7; max bad: 0; error percent: 0",
     "output_type": "error",
     "traceback": [
      "\u001b[1;31m---------------------------------------------------------------------------\u001b[0m",
      "\u001b[1;31mBadRequest\u001b[0m                                Traceback (most recent call last)",
      "Cell \u001b[1;32mIn[9], line 22\u001b[0m\n\u001b[0;32m     19\u001b[0m     job\u001b[38;5;241m.\u001b[39mreload()\n\u001b[0;32m     20\u001b[0m     \u001b[38;5;28mprint\u001b[39m(job\u001b[38;5;241m.\u001b[39mstate)\n\u001b[1;32m---> 22\u001b[0m \u001b[38;5;28mprint\u001b[39m(job\u001b[38;5;241m.\u001b[39mresult())\n\u001b[0;32m     24\u001b[0m table \u001b[38;5;241m=\u001b[39m client\u001b[38;5;241m.\u001b[39mget_table(table_id)\n\u001b[0;32m     25\u001b[0m \u001b[38;5;28mprint\u001b[39m(\n\u001b[0;32m     26\u001b[0m     \u001b[38;5;124m\"\u001b[39m\u001b[38;5;124mLoaded \u001b[39m\u001b[38;5;132;01m{}\u001b[39;00m\u001b[38;5;124m rows and \u001b[39m\u001b[38;5;132;01m{}\u001b[39;00m\u001b[38;5;124m columns to \u001b[39m\u001b[38;5;132;01m{}\u001b[39;00m\u001b[38;5;124m\"\u001b[39m\u001b[38;5;241m.\u001b[39mformat(\n\u001b[0;32m     27\u001b[0m         table\u001b[38;5;241m.\u001b[39mnum_rows, \u001b[38;5;28mlen\u001b[39m(table\u001b[38;5;241m.\u001b[39mschema), table_id\n\u001b[0;32m     28\u001b[0m     )\n\u001b[0;32m     29\u001b[0m )\n",
      "File \u001b[1;32m~\\AppData\\Roaming\\Python\\Python311\\site-packages\\google\\cloud\\bigquery\\job\\base.py:952\u001b[0m, in \u001b[0;36m_AsyncJob.result\u001b[1;34m(self, retry, timeout)\u001b[0m\n\u001b[0;32m    949\u001b[0m     \u001b[38;5;28mself\u001b[39m\u001b[38;5;241m.\u001b[39m_begin(retry\u001b[38;5;241m=\u001b[39mretry, timeout\u001b[38;5;241m=\u001b[39mtimeout)\n\u001b[0;32m    951\u001b[0m kwargs \u001b[38;5;241m=\u001b[39m {} \u001b[38;5;28;01mif\u001b[39;00m retry \u001b[38;5;129;01mis\u001b[39;00m DEFAULT_RETRY \u001b[38;5;28;01melse\u001b[39;00m {\u001b[38;5;124m\"\u001b[39m\u001b[38;5;124mretry\u001b[39m\u001b[38;5;124m\"\u001b[39m: retry}\n\u001b[1;32m--> 952\u001b[0m \u001b[38;5;28;01mreturn\u001b[39;00m \u001b[38;5;28msuper\u001b[39m(_AsyncJob, \u001b[38;5;28mself\u001b[39m)\u001b[38;5;241m.\u001b[39mresult(timeout\u001b[38;5;241m=\u001b[39mtimeout, \u001b[38;5;241m*\u001b[39m\u001b[38;5;241m*\u001b[39mkwargs)\n",
      "File \u001b[1;32m~\\AppData\\Roaming\\Python\\Python311\\site-packages\\google\\api_core\\future\\polling.py:261\u001b[0m, in \u001b[0;36mPollingFuture.result\u001b[1;34m(self, timeout, retry, polling)\u001b[0m\n\u001b[0;32m    256\u001b[0m \u001b[38;5;28mself\u001b[39m\u001b[38;5;241m.\u001b[39m_blocking_poll(timeout\u001b[38;5;241m=\u001b[39mtimeout, retry\u001b[38;5;241m=\u001b[39mretry, polling\u001b[38;5;241m=\u001b[39mpolling)\n\u001b[0;32m    258\u001b[0m \u001b[38;5;28;01mif\u001b[39;00m \u001b[38;5;28mself\u001b[39m\u001b[38;5;241m.\u001b[39m_exception \u001b[38;5;129;01mis\u001b[39;00m \u001b[38;5;129;01mnot\u001b[39;00m \u001b[38;5;28;01mNone\u001b[39;00m:\n\u001b[0;32m    259\u001b[0m     \u001b[38;5;66;03m# pylint: disable=raising-bad-type\u001b[39;00m\n\u001b[0;32m    260\u001b[0m     \u001b[38;5;66;03m# Pylint doesn't recognize that this is valid in this case.\u001b[39;00m\n\u001b[1;32m--> 261\u001b[0m     \u001b[38;5;28;01mraise\u001b[39;00m \u001b[38;5;28mself\u001b[39m\u001b[38;5;241m.\u001b[39m_exception\n\u001b[0;32m    263\u001b[0m \u001b[38;5;28;01mreturn\u001b[39;00m \u001b[38;5;28mself\u001b[39m\u001b[38;5;241m.\u001b[39m_result\n",
      "\u001b[1;31mBadRequest\u001b[0m: 400 Error while reading data, error message: CSV processing encountered too many errors, giving up. Rows: 2393; errors: 7; max bad: 0; error percent: 0"
     ]
    }
   ],
   "source": [
    "import time\n",
    "from google.cloud import bigquery\n",
    "\n",
    "client = bigquery.Client()\n",
    "\n",
    "job_config = bigquery.LoadJobConfig(\n",
    "    source_format=bigquery.SourceFormat.CSV,\n",
    "    skip_leading_rows=1,\n",
    "    autodetect=False,\n",
    ")\n",
    "\n",
    "table_id = \"ga4-bq-connector.YoutubeTamil9to10.p_channel_combined_a2_vedTam\"\n",
    "\n",
    "with open(r'Combined_all.csv', \"rb\") as source_file:\n",
    "    job = client.load_table_from_file(source_file, table_id, job_config=job_config)\n",
    "\n",
    "while job.state != 'DONE':\n",
    "    time.sleep(2)\n",
    "    job.reload()\n",
    "    print(job.state)\n",
    "\n",
    "print(job.result())\n",
    "\n",
    "table = client.get_table(table_id)\n",
    "print(\n",
    "    \"Loaded {} rows and {} columns to {}\".format(\n",
    "        table.num_rows, len(table.schema), table_id\n",
    "    )\n",
    ")    "
   ]
  },
  {
   "cell_type": "code",
   "execution_count": 10,
   "id": "ea2677c7",
   "metadata": {},
   "outputs": [
    {
     "name": "stdout",
     "output_type": "stream",
     "text": [
      "DONE\n",
      "LoadJob<project=ga4-bq-connector, location=asia-south1, id=9f751701-69d4-4a9e-afd3-4ee2b99ad689>\n",
      "Loaded 2386 rows and 16 columns to ga4-bq-connector.YoutubeTamil9to10.p_channel_combined_a2_vedTam\n"
     ]
    }
   ],
   "source": [
    "import time\n",
    "from google.cloud import bigquery\n",
    "\n",
    "client = bigquery.Client()\n",
    "\n",
    "job_config = bigquery.LoadJobConfig(\n",
    "    source_format=bigquery.SourceFormat.CSV,\n",
    "    skip_leading_rows=1,\n",
    "    autodetect=False,\n",
    "    max_bad_records=10  # Allow up to 10 bad records\n",
    ")\n",
    "\n",
    "table_id = \"ga4-bq-connector.YoutubeTamil9to10.p_channel_combined_a2_vedTam\"\n",
    "\n",
    "with open(r'Combined_all.csv', \"rb\") as source_file:\n",
    "    job = client.load_table_from_file(source_file, table_id, job_config=job_config)\n",
    "\n",
    "while job.state != 'DONE':\n",
    "    time.sleep(2)\n",
    "    job.reload()\n",
    "    print(job.state)\n",
    "\n",
    "print(job.result())\n",
    "\n",
    "table = client.get_table(table_id)\n",
    "print(\n",
    "    \"Loaded {} rows and {} columns to {}\".format(\n",
    "        table.num_rows, len(table.schema), table_id\n",
    "    )\n",
    ")\n"
   ]
  },
  {
   "cell_type": "code",
   "execution_count": 15,
   "id": "f5c44081",
   "metadata": {},
   "outputs": [],
   "source": [
    "import time\n",
    "from google.cloud import bigquery\n",
    "\n",
    "def load_csv_to_bigquery(table_name, csv_file):\n",
    "    client = bigquery.Client()\n",
    "\n",
    "    job_config = bigquery.LoadJobConfig(\n",
    "        source_format=bigquery.SourceFormat.CSV,\n",
    "        skip_leading_rows=1,\n",
    "        autodetect=False,\n",
    "        max_bad_records=100  # Allow up to 10 bad records\n",
    "    )\n",
    "\n",
    "    table_id = table_name\n",
    "\n",
    "    with open(csv_file, \"rb\") as source_file:\n",
    "        job = client.load_table_from_file(source_file, table_id, job_config=job_config)\n",
    "\n",
    "    while job.state != 'DONE':\n",
    "        time.sleep(2)\n",
    "        job.reload()\n",
    "        print(job.state)\n",
    "\n",
    "    print(job.result())\n",
    "\n",
    "    table = client.get_table(table_id)\n",
    "    print(\n",
    "        \"Loaded {} rows and {} columns to {}\".format(\n",
    "            table.num_rows, len(table.schema), table_id\n",
    "        )\n",
    "    )"
   ]
  },
  {
   "cell_type": "code",
   "execution_count": 16,
   "id": "c587d062",
   "metadata": {},
   "outputs": [
    {
     "name": "stdout",
     "output_type": "stream",
     "text": [
      "DONE\n",
      "LoadJob<project=ga4-bq-connector, location=asia-south1, id=56cbf4a9-e4e6-4a04-badc-b44ef8d0e83b>\n",
      "Loaded 0 rows and 14 columns to ga4-bq-connector.YoutubeTamil9to10.p_playlist_province_a1_vedTam\n"
     ]
    }
   ],
   "source": []
  },
  {
   "cell_type": "code",
   "execution_count": 17,
   "id": "99bb2b1c",
   "metadata": {},
   "outputs": [
    {
     "name": "stdout",
     "output_type": "stream",
     "text": [
      "DONE\n",
      "LoadJob<project=ga4-bq-connector, location=asia-south1, id=2af0d573-9dbb-4760-a4ed-5f443305cbb2>\n",
      "Loaded 0 rows and 15 columns to ga4-bq-connector.YoutubeTamil9to10.p_channel_annotations_a1_vedTam\n"
     ]
    }
   ],
   "source": [
    "\n",
    "# Usage:\n",
    "table_name = \"ga4-bq-connector.YoutubeTamil9to10.p_channel_annotations_a1_vedTam\"\n",
    "csv_filename = \"Annotations_all.csv\"  \n",
    "\n",
    "load_csv_to_bigquery(table_name, csv_filename)\n"
   ]
  },
  {
   "cell_type": "code",
   "execution_count": 18,
   "id": "6e89e872",
   "metadata": {},
   "outputs": [
    {
     "name": "stdout",
     "output_type": "stream",
     "text": [
      "DONE\n",
      "LoadJob<project=ga4-bq-connector, location=asia-south1, id=4e15aea2-361a-406d-994b-c8b2da6de0e2>\n",
      "Loaded 0 rows and 14 columns to ga4-bq-connector.YoutubeTamil9to10.p_channel_cards_a1_vedTam\n"
     ]
    }
   ],
   "source": [
    "load_csv_to_bigquery(\"ga4-bq-connector.YoutubeTamil9to10.p_channel_cards_a1_vedTam\", \"Cards_all.csv\")"
   ]
  },
  {
   "cell_type": "code",
   "execution_count": 20,
   "id": "f03b142b",
   "metadata": {},
   "outputs": [
    {
     "name": "stdout",
     "output_type": "stream",
     "text": [
      "DONE\n",
      "LoadJob<project=ga4-bq-connector, location=asia-south1, id=15a87f0d-fc37-4bcb-ae54-5609f40e85b8>\n",
      "Loaded 16 rows and 26 columns to ga4-bq-connector.YoutubeTamil9to10.p_channel_province_a2_vedTam\n"
     ]
    }
   ],
   "source": [
    "load_csv_to_bigquery(\"ga4-bq-connector.YoutubeTamil9to10.p_channel_province_a2_vedTam\", \"Province_all.csv\")"
   ]
  },
  {
   "cell_type": "code",
   "execution_count": 22,
   "id": "dd48ae73",
   "metadata": {},
   "outputs": [
    {
     "name": "stdout",
     "output_type": "stream",
     "text": [
      "DONE\n",
      "LoadJob<project=ga4-bq-connector, location=asia-south1, id=fe516f2c-cd42-4d78-a09a-3b963c0c3738>\n",
      "Loaded 5726 rows and 33 columns to ga4-bq-connector.YoutubeTamil9to10.p_channel_basic_a2_vedTam\n"
     ]
    }
   ],
   "source": [
    "load_csv_to_bigquery(\"ga4-bq-connector.YoutubeTamil9to10.p_channel_basic_a2_vedTam\", \"User Activity_all.csv\")"
   ]
  },
  {
   "cell_type": "code",
   "execution_count": 23,
   "id": "4b525180",
   "metadata": {},
   "outputs": [
    {
     "name": "stdout",
     "output_type": "stream",
     "text": [
      "DONE\n",
      "LoadJob<project=ga4-bq-connector, location=asia-south1, id=df2e71ba-59ef-4b92-ace9-d4b9ba0bd314>\n",
      "Loaded 2867 rows and 9 columns to ga4-bq-connector.YoutubeTamil9to10.p_channel_demographics_a1_vedTam\n"
     ]
    }
   ],
   "source": [
    "load_csv_to_bigquery(\"ga4-bq-connector.YoutubeTamil9to10.p_channel_demographics_a1_vedTam\", \"Demographics_all.csv\")"
   ]
  },
  {
   "cell_type": "code",
   "execution_count": 24,
   "id": "8fc49bcb",
   "metadata": {},
   "outputs": [
    {
     "name": "stdout",
     "output_type": "stream",
     "text": [
      "DONE\n",
      "LoadJob<project=ga4-bq-connector, location=asia-south1, id=6fe782d3-4d83-4e6b-bd55-69f11573fa7e>\n",
      "Loaded 5437 rows and 14 columns to ga4-bq-connector.YoutubeTamil9to10.p_channel_device_os_a2_vedTam\n"
     ]
    }
   ],
   "source": [
    "load_csv_to_bigquery(\"ga4-bq-connector.YoutubeTamil9to10.p_channel_device_os_a2_vedTam\", \"Device and OS_all.csv\")"
   ]
  },
  {
   "cell_type": "code",
   "execution_count": 25,
   "id": "b3873c10",
   "metadata": {},
   "outputs": [
    {
     "name": "stdout",
     "output_type": "stream",
     "text": [
      "DONE\n",
      "LoadJob<project=ga4-bq-connector, location=asia-south1, id=d7476597-e479-4b65-90e7-d3b8c1907618>\n",
      "Loaded 278 rows and 11 columns to ga4-bq-connector.YoutubeTamil9to10.p_channel_end_screens_a1_vedTam\n"
     ]
    }
   ],
   "source": [
    "load_csv_to_bigquery(\"ga4-bq-connector.YoutubeTamil9to10.p_channel_end_screens_a1_vedTam\", \"End screens_all.csv\")"
   ]
  },
  {
   "cell_type": "code",
   "execution_count": 26,
   "id": "7a7336e8",
   "metadata": {},
   "outputs": [
    {
     "name": "stdout",
     "output_type": "stream",
     "text": [
      "DONE\n",
      "LoadJob<project=ga4-bq-connector, location=asia-south1, id=86053b84-05ca-4c91-9968-5aa65522a1c2>\n",
      "Loaded 4761 rows and 14 columns to ga4-bq-connector.YoutubeTamil9to10.p_channel_playback_location_a2_vedTam\n"
     ]
    }
   ],
   "source": [
    "load_csv_to_bigquery(\"ga4-bq-connector.YoutubeTamil9to10.p_channel_playback_location_a2_vedTam\", \"Playback locations_all.csv\")"
   ]
  },
  {
   "cell_type": "code",
   "execution_count": 27,
   "id": "1d796d9f",
   "metadata": {},
   "outputs": [
    {
     "name": "stdout",
     "output_type": "stream",
     "text": [
      "DONE\n",
      "LoadJob<project=ga4-bq-connector, location=asia-south1, id=f6dedbc3-610e-4c80-9b2e-2dc1f9036d12>\n",
      "Loaded 211 rows and 8 columns to ga4-bq-connector.YoutubeTamil9to10.p_channel_sharing_service_a1_vedTam\n"
     ]
    }
   ],
   "source": [
    "load_csv_to_bigquery(\"ga4-bq-connector.YoutubeTamil9to10.p_channel_sharing_service_a1_vedTam\", \"Sharing service_all.csv\")"
   ]
  },
  {
   "cell_type": "code",
   "execution_count": 28,
   "id": "ef2e4ecd",
   "metadata": {},
   "outputs": [
    {
     "name": "stdout",
     "output_type": "stream",
     "text": [
      "DONE\n",
      "LoadJob<project=ga4-bq-connector, location=asia-south1, id=7d3e84f5-65ac-429a-9c8d-c7bb675eec9d>\n",
      "Loaded 4508 rows and 14 columns to ga4-bq-connector.YoutubeTamil9to10.p_channel_subtitles_a2_vedTam\n"
     ]
    }
   ],
   "source": [
    "load_csv_to_bigquery(\"ga4-bq-connector.YoutubeTamil9to10.p_channel_subtitles_a2_vedTam\", \"Subtitles_all.csv\")"
   ]
  },
  {
   "cell_type": "code",
   "execution_count": 29,
   "id": "ff683e25",
   "metadata": {},
   "outputs": [
    {
     "name": "stdout",
     "output_type": "stream",
     "text": [
      "DONE\n",
      "LoadJob<project=ga4-bq-connector, location=asia-south1, id=1bc78a90-fa05-4cba-a2f7-646c1de31634>\n",
      "Loaded 8818 rows and 14 columns to ga4-bq-connector.YoutubeTamil9to10.p_channel_traffic_source_a2_vedTam\n"
     ]
    }
   ],
   "source": [
    "load_csv_to_bigquery(\"ga4-bq-connector.YoutubeTamil9to10.p_channel_traffic_source_a2_vedTam\", \"Traffic sources_all.csv\")"
   ]
  },
  {
   "cell_type": "code",
   "execution_count": 30,
   "id": "4738daa1",
   "metadata": {},
   "outputs": [
    {
     "name": "stdout",
     "output_type": "stream",
     "text": [
      "DONE\n",
      "LoadJob<project=ga4-bq-connector, location=asia-south1, id=c8a912df-6b26-4341-afbe-8af3b489555b>\n",
      "Loaded 794 rows and 13 columns to ga4-bq-connector.YoutubeTamil9to10.p_playlist_basic_a1_vedTam\n"
     ]
    }
   ],
   "source": [
    "load_csv_to_bigquery(\"ga4-bq-connector.YoutubeTamil9to10.p_playlist_basic_a1_vedTam\", \"Playlist user activity_all.csv\")"
   ]
  },
  {
   "cell_type": "code",
   "execution_count": 31,
   "id": "265dde89",
   "metadata": {},
   "outputs": [
    {
     "name": "stdout",
     "output_type": "stream",
     "text": [
      "DONE\n",
      "LoadJob<project=ga4-bq-connector, location=asia-south1, id=a51fcacb-20c1-4482-8e3a-6c6ce0213ab9>\n",
      "Loaded 869 rows and 17 columns to ga4-bq-connector.YoutubeTamil9to10.p_playlist_combined_a1_vedTam\n"
     ]
    }
   ],
   "source": [
    "load_csv_to_bigquery(\"ga4-bq-connector.YoutubeTamil9to10.p_playlist_combined_a1_vedTam\", \"Playlist combined_all.csv\")"
   ]
  },
  {
   "cell_type": "code",
   "execution_count": 32,
   "id": "1b201e23",
   "metadata": {},
   "outputs": [
    {
     "name": "stdout",
     "output_type": "stream",
     "text": [
      "DONE\n",
      "LoadJob<project=ga4-bq-connector, location=asia-south1, id=6b0a973c-969d-439f-8dee-a10eb452f9bd>\n",
      "Loaded 821 rows and 15 columns to ga4-bq-connector.YoutubeTamil9to10.p_playlist_device_os_a1_vedTam\n"
     ]
    }
   ],
   "source": [
    "load_csv_to_bigquery(\"ga4-bq-connector.YoutubeTamil9to10.p_playlist_device_os_a1_vedTam\", \"Playlist device and OS_all.csv\")"
   ]
  },
  {
   "cell_type": "code",
   "execution_count": 33,
   "id": "8f53e0e6",
   "metadata": {},
   "outputs": [
    {
     "name": "stdout",
     "output_type": "stream",
     "text": [
      "DONE\n",
      "LoadJob<project=ga4-bq-connector, location=asia-south1, id=1463d300-5070-4f64-8b7e-bc962b558498>\n",
      "Loaded 794 rows and 15 columns to ga4-bq-connector.YoutubeTamil9to10.p_playlist_playback_location_a1_vedTam\n"
     ]
    }
   ],
   "source": [
    "load_csv_to_bigquery(\"ga4-bq-connector.YoutubeTamil9to10.p_playlist_playback_location_a1_vedTam\", \"Playlist playback locations_all.csv\")"
   ]
  },
  {
   "cell_type": "code",
   "execution_count": 34,
   "id": "c8c67ac5",
   "metadata": {},
   "outputs": [
    {
     "name": "stdout",
     "output_type": "stream",
     "text": [
      "DONE\n",
      "LoadJob<project=ga4-bq-connector, location=asia-south1, id=1e1ce3e0-df13-47e8-ae13-674f48742184>\n",
      "Loaded 851 rows and 15 columns to ga4-bq-connector.YoutubeTamil9to10.p_playlist_traffic_source_a1_vedTam\n"
     ]
    }
   ],
   "source": [
    "load_csv_to_bigquery(\"ga4-bq-connector.YoutubeTamil9to10.p_playlist_traffic_source_a1_vedTam\", \"Playlist traffic sources_all.csv\")"
   ]
  },
  {
   "cell_type": "code",
   "execution_count": null,
   "id": "785c2a53",
   "metadata": {},
   "outputs": [],
   "source": []
  }
 ],
 "metadata": {
  "kernelspec": {
   "display_name": "Python 3 (ipykernel)",
   "language": "python",
   "name": "python3"
  },
  "language_info": {
   "codemirror_mode": {
    "name": "ipython",
    "version": 3
   },
   "file_extension": ".py",
   "mimetype": "text/x-python",
   "name": "python",
   "nbconvert_exporter": "python",
   "pygments_lexer": "ipython3",
   "version": "3.11.3"
  }
 },
 "nbformat": 4,
 "nbformat_minor": 5
}
